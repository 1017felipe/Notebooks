{
 "cells": [
  {
   "cell_type": "markdown",
   "metadata": {},
   "source": [
    "## Introducction"
   ]
  },
  {
   "cell_type": "code",
   "execution_count": 1,
   "metadata": {},
   "outputs": [
    {
     "name": "stdout",
     "output_type": "stream",
     "text": [
      "{'one': 'uno', 'two': 'dos', 'three': 'tres'}\n"
     ]
    }
   ],
   "source": [
    "eng2sp = {}\n",
    "eng2sp ['one'] = 'uno'\n",
    "eng2sp ['two'] = 'dos'\n",
    "eng2sp ['three'] = 'tres'\n",
    "print(eng2sp)"
   ]
  },
  {
   "cell_type": "markdown",
   "metadata": {},
   "source": [
    "##  Dictionary Basics"
   ]
  },
  {
   "cell_type": "code",
   "execution_count": 2,
   "metadata": {},
   "outputs": [
    {
     "data": {
      "text/plain": [
       "{'gold': 33, 'silver': 17, 'bronze': 12}"
      ]
     },
     "execution_count": 2,
     "metadata": {},
     "output_type": "execute_result"
    }
   ],
   "source": [
    "medals = {'gold':33,'silver':17,'bronze':12}\n",
    "medals "
   ]
  },
  {
   "cell_type": "code",
   "execution_count": 3,
   "metadata": {},
   "outputs": [
    {
     "data": {
      "text/plain": [
       "{'gold': 7, 'silver': 8, 'bronze': 6}"
      ]
     },
     "execution_count": 3,
     "metadata": {},
     "output_type": "execute_result"
    }
   ],
   "source": [
    "olympics = {'gold':7}\n",
    "olympics['silver'] = 8\n",
    "olympics['bronze'] = 6\n",
    "olympics"
   ]
  },
  {
   "cell_type": "code",
   "execution_count": 4,
   "metadata": {},
   "outputs": [
    {
     "data": {
      "text/plain": [
       "{'apples': 430, 'bananas': 312, 'oranges': 525, 'pears': 0}"
      ]
     },
     "execution_count": 4,
     "metadata": {},
     "output_type": "execute_result"
    }
   ],
   "source": [
    "inventory = {'apples':430, 'bananas':312, 'oranges':525, 'pears':217}\n",
    "inventory['pears'] = 0\n",
    "inventory"
   ]
  },
  {
   "cell_type": "code",
   "execution_count": 5,
   "metadata": {},
   "outputs": [
    {
     "data": {
      "text/plain": [
       "{'apples': 430, 'bananas': 512, 'oranges': 525, 'pears': 0}"
      ]
     },
     "execution_count": 5,
     "metadata": {},
     "output_type": "execute_result"
    }
   ],
   "source": [
    "inventory['bananas'] = inventory['bananas'] + 200\n",
    "inventory"
   ]
  },
  {
   "cell_type": "code",
   "execution_count": 6,
   "metadata": {},
   "outputs": [
    {
     "data": {
      "text/plain": [
       "4"
      ]
     },
     "execution_count": 6,
     "metadata": {},
     "output_type": "execute_result"
    }
   ],
   "source": [
    "numItems = len(inventory)\n",
    "numItems"
   ]
  },
  {
   "cell_type": "code",
   "execution_count": 7,
   "metadata": {},
   "outputs": [
    {
     "data": {
      "text/plain": [
       "{'cat': 1, 'dog': 6, 'elephant': 23, 'mouse': 7}"
      ]
     },
     "execution_count": 7,
     "metadata": {},
     "output_type": "execute_result"
    }
   ],
   "source": [
    "mydict = {'cat':1,'dog':6,'elephant':23}\n",
    "mydict['mouse'] = mydict['cat'] + mydict['dog']\n",
    "mydict"
   ]
  },
  {
   "cell_type": "markdown",
   "metadata": {},
   "source": [
    "## Dictionary methods"
   ]
  },
  {
   "cell_type": "code",
   "execution_count": 8,
   "metadata": {},
   "outputs": [
    {
     "data": {
      "text/plain": [
       "{'apples': 430, 'bananas': 512, 'oranges': 525, 'pears': 0}"
      ]
     },
     "execution_count": 8,
     "metadata": {},
     "output_type": "execute_result"
    }
   ],
   "source": [
    "inventory"
   ]
  },
  {
   "cell_type": "code",
   "execution_count": 9,
   "metadata": {},
   "outputs": [
    {
     "name": "stdout",
     "output_type": "stream",
     "text": [
      "apples has the value:  430\n",
      "bananas has the value:  512\n",
      "oranges has the value:  525\n",
      "pears has the value:  0\n"
     ]
    }
   ],
   "source": [
    "for key in inventory.keys():\n",
    "    print(key, \"has the value: \", inventory[key])"
   ]
  },
  {
   "cell_type": "code",
   "execution_count": 10,
   "metadata": {},
   "outputs": [
    {
     "name": "stdout",
     "output_type": "stream",
     "text": [
      "['apples', 'bananas', 'oranges', 'pears']\n"
     ]
    }
   ],
   "source": [
    "keys = list(inventory.keys())\n",
    "print(keys)"
   ]
  },
  {
   "cell_type": "code",
   "execution_count": 11,
   "metadata": {},
   "outputs": [
    {
     "name": "stdout",
     "output_type": "stream",
     "text": [
      "got key apples\n",
      "got key bananas\n",
      "got key oranges\n",
      "got key pears\n"
     ]
    }
   ],
   "source": [
    "for key in inventory:\n",
    "    print('got key', key)"
   ]
  },
  {
   "cell_type": "code",
   "execution_count": 12,
   "metadata": {},
   "outputs": [
    {
     "name": "stdout",
     "output_type": "stream",
     "text": [
      "[430, 512, 525, 0]\n",
      "[('apples', 430), ('bananas', 512), ('oranges', 525), ('pears', 0)]\n"
     ]
    }
   ],
   "source": [
    "print(list(inventory.values()))\n",
    "print(list(inventory.items()))"
   ]
  },
  {
   "cell_type": "code",
   "execution_count": 13,
   "metadata": {},
   "outputs": [
    {
     "name": "stdout",
     "output_type": "stream",
     "text": [
      "False\n",
      "True\n"
     ]
    }
   ],
   "source": [
    "print('cherries' in inventory)\n",
    "print('apples' in inventory)"
   ]
  },
  {
   "cell_type": "code",
   "execution_count": 14,
   "metadata": {},
   "outputs": [
    {
     "name": "stdout",
     "output_type": "stream",
     "text": [
      "we have no peras\n"
     ]
    }
   ],
   "source": [
    "if 'peras' in inventory:\n",
    "    print(inventory['bananas'])\n",
    "else:\n",
    "    print('we have no peras')"
   ]
  },
  {
   "cell_type": "code",
   "execution_count": 16,
   "metadata": {},
   "outputs": [
    {
     "name": "stdout",
     "output_type": "stream",
     "text": [
      "2\n"
     ]
    }
   ],
   "source": [
    "mydict = {\"cat\":12, \"dog\":6,\"elephant\":23, \"bear\":20}\n",
    "answer = mydict.get(\"cat\")//mydict.get(\"dog\")\n",
    "print(answer)"
   ]
  },
  {
   "cell_type": "code",
   "execution_count": 17,
   "metadata": {},
   "outputs": [
    {
     "name": "stdout",
     "output_type": "stream",
     "text": [
      "True\n"
     ]
    }
   ],
   "source": [
    "print(\"cat\" in mydict)"
   ]
  },
  {
   "cell_type": "code",
   "execution_count": 18,
   "metadata": {},
   "outputs": [
    {
     "name": "stdout",
     "output_type": "stream",
     "text": [
      "43\n"
     ]
    }
   ],
   "source": [
    "total = 0\n",
    "for akey in mydict:\n",
    "    if len(akey)>3:\n",
    "        total = total + mydict[akey]\n",
    "print(total)"
   ]
  },
  {
   "cell_type": "code",
   "execution_count": 22,
   "metadata": {},
   "outputs": [
    {
     "name": "stdout",
     "output_type": "stream",
     "text": [
      "True\n",
      "left\n"
     ]
    }
   ],
   "source": [
    "opposites = {'up':'down','right':'wrong','true':'false'}\n",
    "alias = opposites\n",
    "\n",
    "print(alias is opposites)\n",
    "\n",
    "alias['right'] = 'left'\n",
    "print(opposites['right'])"
   ]
  }
 ],
 "metadata": {
  "kernelspec": {
   "display_name": "Python 3",
   "language": "python",
   "name": "python3"
  },
  "language_info": {
   "codemirror_mode": {
    "name": "ipython",
    "version": 3
   },
   "file_extension": ".py",
   "mimetype": "text/x-python",
   "name": "python",
   "nbconvert_exporter": "python",
   "pygments_lexer": "ipython3",
   "version": "3.8.3"
  }
 },
 "nbformat": 4,
 "nbformat_minor": 4
}
